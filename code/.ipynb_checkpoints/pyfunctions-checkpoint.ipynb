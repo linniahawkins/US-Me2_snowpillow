{
 "cells": [
  {
   "cell_type": "code",
   "execution_count": 1,
   "id": "4514200a-9874-4214-a6c6-0106883b4d71",
   "metadata": {},
   "outputs": [],
   "source": [
    "import os, glob\n",
    "import numpy as np\n",
    "import pandas as pd\n",
    "from datetime import datetime\n",
    "import matplotlib.pyplot as plt"
   ]
  },
  {
   "cell_type": "code",
   "execution_count": 2,
   "id": "448ee638-16be-4297-8338-7d2ca8cedd3c",
   "metadata": {},
   "outputs": [],
   "source": [
    "def get_datetime(df):\n",
    "    index = []\n",
    "    for ij in range(len(df)):\n",
    "        doy = str(df.loc[ij,2])\n",
    "        doy.rjust(3 + len(doy), '0')\n",
    "        year = str(df.loc[ij,1])\n",
    "        hr = str(round(df.loc[ij,3]/100.0))\n",
    "        index.append(datetime.strptime(year + \"-\" + doy + \"-\" + hr, \"%Y-%j-%H\"))\n",
    "    return index"
   ]
  },
  {
   "cell_type": "code",
   "execution_count": null,
   "id": "41a059a0-d1f9-4457-a0c4-5ff95e5a94f2",
   "metadata": {},
   "outputs": [],
   "source": []
  }
 ],
 "metadata": {
  "kernelspec": {
   "display_name": "Python 3",
   "language": "python",
   "name": "python3"
  },
  "language_info": {
   "codemirror_mode": {
    "name": "ipython",
    "version": 3
   },
   "file_extension": ".py",
   "mimetype": "text/x-python",
   "name": "python",
   "nbconvert_exporter": "python",
   "pygments_lexer": "ipython3",
   "version": "3.8.8"
  }
 },
 "nbformat": 4,
 "nbformat_minor": 5
}
